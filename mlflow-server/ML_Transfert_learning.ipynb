{
  "nbformat": 4,
  "nbformat_minor": 0,
  "metadata": {
    "colab": {
      "provenance": [],
      "gpuType": "T4"
    },
    "kernelspec": {
      "name": "python3",
      "display_name": "Python 3"
    },
    "language_info": {
      "name": "python"
    },
    "accelerator": "GPU"
  },
  "cells": [
    {
      "cell_type": "code",
      "execution_count": null,
      "metadata": {
        "colab": {
          "base_uri": "https://localhost:8080/"
        },
        "id": "mMNN3VAV1PwA",
        "outputId": "61441349-3741-4807-b240-669d5d48b292"
      },
      "outputs": [
        {
          "output_type": "stream",
          "name": "stdout",
          "text": [
            "Mounted at /content/gdrive\n"
          ]
        }
      ],
      "source": [
        "from google.colab import drive\n",
        "drive.mount('/content/gdrive')"
      ]
    },
    {
      "cell_type": "code",
      "source": [
        "%cd /content/gdrive/MyDrive/Final"
      ],
      "metadata": {
        "colab": {
          "base_uri": "https://localhost:8080/"
        },
        "id": "oJBcNcSg514l",
        "outputId": "ba4dc0a5-a746-495c-9c16-b12840538e4d"
      },
      "execution_count": null,
      "outputs": [
        {
          "output_type": "stream",
          "name": "stdout",
          "text": [
            "/content/gdrive/MyDrive/Final\n"
          ]
        }
      ]
    },
    {
      "cell_type": "code",
      "source": [
        "%cd \"/content/gdrive/MyDrive/Jedha/FS-2023/4 Projets/Final\""
      ],
      "metadata": {
        "colab": {
          "base_uri": "https://localhost:8080/"
        },
        "id": "hfpZvJ3O-5kj",
        "outputId": "8732360f-edd5-4f24-99b4-f541c6c1adde"
      },
      "execution_count": null,
      "outputs": [
        {
          "output_type": "stream",
          "name": "stdout",
          "text": [
            "[Errno 2] No such file or directory: '/content/gdrive/MyDrive/Jedha/FS-2023/4 Projets/Final'\n",
            "/content/gdrive/MyDrive/Final\n"
          ]
        }
      ]
    },
    {
      "cell_type": "code",
      "source": [
        "#rm -r /content/fruits360"
      ],
      "metadata": {
        "id": "1BNM4hu2Chff"
      },
      "execution_count": null,
      "outputs": []
    },
    {
      "cell_type": "code",
      "source": [
        "! ls"
      ],
      "metadata": {
        "colab": {
          "base_uri": "https://localhost:8080/"
        },
        "id": "urq2QIYq_Jnl",
        "outputId": "7df03b76-6f77-4d6b-f6a7-e828c63c1d0a"
      },
      "execution_count": null,
      "outputs": [
        {
          "output_type": "stream",
          "name": "stdout",
          "text": [
            "fruits360\n",
            "ML_Transfert_learning.ipynb\n",
            "models\n",
            "TransferLearningModel_10epochs_lr0.0001_validation.h5\n",
            "YOLO8_v1.ipynb\n"
          ]
        }
      ]
    },
    {
      "cell_type": "code",
      "source": [
        "! git clone https://github.com/971FLS/fruits360"
      ],
      "metadata": {
        "id": "opJVjD8e_f41",
        "colab": {
          "base_uri": "https://localhost:8080/"
        },
        "outputId": "964625cb-0cf2-4f13-ea4e-3f6cdf36ccd7"
      },
      "execution_count": null,
      "outputs": [
        {
          "output_type": "stream",
          "name": "stdout",
          "text": [
            "fatal: destination path 'fruits360' already exists and is not an empty directory.\n"
          ]
        }
      ]
    },
    {
      "cell_type": "code",
      "source": [
        "from datetime import datetime\n",
        "start = datetime.now()\n"
      ],
      "metadata": {
        "id": "UrUwjk_3FAhW"
      },
      "execution_count": null,
      "outputs": []
    },
    {
      "cell_type": "code",
      "source": [
        "# Répertoire du dataset\n",
        "url = \"/content/gdrive/MyDrive/Final/fruits360/dataset\""
      ],
      "metadata": {
        "id": "qZQ0vJO_JOR_"
      },
      "execution_count": null,
      "outputs": []
    },
    {
      "cell_type": "code",
      "source": [
        "import tensorflow as tf\n",
        "# import os\n",
        "# ! pip install mlflow --quiet\n",
        "# ! pip install boto3 --quiet\n",
        "# import mlflow"
      ],
      "metadata": {
        "id": "TgYDpvEXJQxW"
      },
      "execution_count": null,
      "outputs": []
    },
    {
      "cell_type": "code",
      "source": [
        "\n",
        "# # Set tracking URI to your Heroku application\n",
        "# os.environ[\"APP_URI\"] = \"https://antiwaste-mlflow.herokuapp.com/\"\n",
        "# mlflow.set_tracking_uri(os.environ[\"APP_URI\"])\n",
        "\n",
        "# # set and get experiment's info\n",
        "# EXPERIMENT_NAME=\"experiment_2\"\n",
        "# mlflow.set_experiment(EXPERIMENT_NAME)\n",
        "# experiment = mlflow.get_experiment_by_name(EXPERIMENT_NAME)"
      ],
      "metadata": {
        "id": "HtAwBEbwnbh0"
      },
      "execution_count": null,
      "outputs": []
    },
    {
      "cell_type": "code",
      "source": [
        "#os.environ[\"AWS_ACCESS_KEY_ID\"] = \"***********\"\n",
        "#os.environ[\"AWS_SECRET_ACCESS_KEY\"] = \"************\""
      ],
      "metadata": {
        "id": "peCZk_Q0niMM"
      },
      "execution_count": null,
      "outputs": []
    },
    {
      "cell_type": "code",
      "source": [
        "import pathlib\n",
        "data_root = pathlib.Path(url)\n",
        "print(data_root)"
      ],
      "metadata": {
        "colab": {
          "base_uri": "https://localhost:8080/"
        },
        "id": "Nw5_btmTJR22",
        "outputId": "c325a66e-253a-4c02-d71e-48114feef589"
      },
      "execution_count": null,
      "outputs": [
        {
          "output_type": "stream",
          "name": "stdout",
          "text": [
            "/content/gdrive/MyDrive/Final/fruits360/dataset\n"
          ]
        }
      ]
    },
    {
      "cell_type": "code",
      "source": [
        "for item in data_root.iterdir():\n",
        "  print(item)"
      ],
      "metadata": {
        "colab": {
          "base_uri": "https://localhost:8080/"
        },
        "id": "i-36Pg-VKHT9",
        "outputId": "0f309506-5785-47d6-c9ea-c4b3156dfef0"
      },
      "execution_count": null,
      "outputs": [
        {
          "output_type": "stream",
          "name": "stdout",
          "text": [
            "/content/gdrive/MyDrive/Final/fruits360/dataset/1.jpg\n",
            "/content/gdrive/MyDrive/Final/fruits360/dataset/2.jpg\n",
            "/content/gdrive/MyDrive/Final/fruits360/dataset/Test\n",
            "/content/gdrive/MyDrive/Final/fruits360/dataset/Training\n",
            "/content/gdrive/MyDrive/Final/fruits360/dataset/legumes-SANSplantravail.jpg\n",
            "/content/gdrive/MyDrive/Final/fruits360/dataset/legumes-plantravail.jpg\n",
            "/content/gdrive/MyDrive/Final/fruits360/dataset/102_100.jpg\n"
          ]
        }
      ]
    },
    {
      "cell_type": "code",
      "source": [
        "img_generator = tf.keras.preprocessing.image.ImageDataGenerator(#rotation_range=90,\n",
        "                                                                brightness_range=(0.5,1),\n",
        "                                                                #shear_range=0.2,\n",
        "                                                                #zoom_range=0.2,\n",
        "                                                                channel_shift_range=0.2,\n",
        "                                                                horizontal_flip=True,\n",
        "                                                                vertical_flip=True,\n",
        "                                                                rescale=1./255,\n",
        "                                                                validation_split=0.3)"
      ],
      "metadata": {
        "id": "faXdyYbQKPQm"
      },
      "execution_count": null,
      "outputs": []
    },
    {
      "cell_type": "code",
      "source": [
        "url_test = \"/content/gdrive/MyDrive/Final/fruits360/dataset/Test\"\n",
        "url_train = \"/content/gdrive/MyDrive/Final/fruits360/dataset/Training\"\n",
        "\n",
        "img_generator_flow_train = img_generator.flow_from_directory(\n",
        "    directory=url_train,\n",
        "    target_size=(224, 224),\n",
        "    batch_size=32,\n",
        "    shuffle=True,\n",
        "    #subset=\"training\"\n",
        "    )\n",
        "\n",
        "img_generator_flow_valid = img_generator.flow_from_directory(\n",
        "    directory=url_test,\n",
        "    target_size=(224, 224),\n",
        "    batch_size=32,\n",
        "    shuffle=True,\n",
        "    #subset=\"validation\"\n",
        "    )"
      ],
      "metadata": {
        "colab": {
          "base_uri": "https://localhost:8080/"
        },
        "id": "SCcGmYPCKcxr",
        "outputId": "374e25a5-e8ad-4a1c-b490-cdf423f8c668"
      },
      "execution_count": null,
      "outputs": [
        {
          "output_type": "stream",
          "name": "stdout",
          "text": [
            "Found 67692 images belonging to 131 classes.\n",
            "Found 22688 images belonging to 131 classes.\n"
          ]
        }
      ]
    },
    {
      "cell_type": "code",
      "source": [
        "import numpy as np\n",
        "import matplotlib.pyplot as plt\n",
        "from pathlib import Path\n",
        "\n",
        "imgs, labels = next(iter(img_generator_flow_train))\n",
        "for img, label in zip(imgs, labels):\n",
        "  true_file_path = np.argmax(img_generator_flow_train.labels == tf.argmax(label))\n",
        "  true_label_name = Path(img_generator_flow_train.filepaths[true_file_path]).parent.name\n",
        "  print(\"Label :\", true_label_name)\n",
        "  #plt.imshow(img)\n",
        "  plt.show()\n"
      ],
      "metadata": {
        "colab": {
          "base_uri": "https://localhost:8080/"
        },
        "id": "uxk7Sdb2KvBQ",
        "outputId": "54a15f68-3bf3-4e23-f3d6-9f83bb654da4"
      },
      "execution_count": null,
      "outputs": [
        {
          "output_type": "stream",
          "name": "stdout",
          "text": [
            "Label : Apple Granny Smith\n",
            "Label : Physalis\n",
            "Label : Nut Pecan\n",
            "Label : Cantaloupe 2\n",
            "Label : Dates\n",
            "Label : Ginger Root\n",
            "Label : Maracuja\n",
            "Label : Walnut\n",
            "Label : Nut Forest\n",
            "Label : Cantaloupe 2\n",
            "Label : Mulberry\n",
            "Label : Carambula\n",
            "Label : Onion Red\n",
            "Label : Pepino\n",
            "Label : Tomato 4\n",
            "Label : Grapefruit Pink\n",
            "Label : Passion Fruit\n",
            "Label : Grape Blue\n",
            "Label : Mango Red\n",
            "Label : Fig\n",
            "Label : Banana Lady Finger\n",
            "Label : Grapefruit Pink\n",
            "Label : Physalis with Husk\n",
            "Label : Pepper Red\n",
            "Label : Apple Braeburn\n",
            "Label : Pepper Red\n",
            "Label : Apple Golden 2\n",
            "Label : Pepper Green\n",
            "Label : Physalis\n",
            "Label : Banana Lady Finger\n",
            "Label : Strawberry Wedge\n",
            "Label : Lychee\n"
          ]
        }
      ]
    },
    {
      "cell_type": "markdown",
      "source": [
        "# Importing the model"
      ],
      "metadata": {
        "id": "bHBdyHAhK47N"
      }
    },
    {
      "cell_type": "code",
      "source": [
        "base_model = tf.keras.applications.MobileNet(input_shape=(224,224,3),\n",
        "                                               include_top=False,\n",
        "                                               weights = \"imagenet\"\n",
        "                                               )"
      ],
      "metadata": {
        "id": "UEVkZTtlKz-5",
        "colab": {
          "base_uri": "https://localhost:8080/"
        },
        "outputId": "acc8ced9-77ae-4902-95f4-45c1640b36a5"
      },
      "execution_count": null,
      "outputs": [
        {
          "output_type": "stream",
          "name": "stdout",
          "text": [
            "Downloading data from https://storage.googleapis.com/tensorflow/keras-applications/mobilenet/mobilenet_1_0_224_tf_no_top.h5\n",
            "17225924/17225924 [==============================] - 2s 0us/step\n"
          ]
        }
      ]
    },
    {
      "cell_type": "code",
      "source": [
        "base_model.summary()"
      ],
      "metadata": {
        "colab": {
          "base_uri": "https://localhost:8080/"
        },
        "id": "pNKjDnUTLC3h",
        "outputId": "f491f1a1-5c24-4f0b-e94d-7122917d7409"
      },
      "execution_count": null,
      "outputs": [
        {
          "output_type": "stream",
          "name": "stdout",
          "text": [
            "Model: \"mobilenet_1.00_224\"\n",
            "_________________________________________________________________\n",
            " Layer (type)                Output Shape              Param #   \n",
            "=================================================================\n",
            " input_1 (InputLayer)        [(None, 224, 224, 3)]     0         \n",
            "                                                                 \n",
            " conv1 (Conv2D)              (None, 112, 112, 32)      864       \n",
            "                                                                 \n",
            " conv1_bn (BatchNormalizatio  (None, 112, 112, 32)     128       \n",
            " n)                                                              \n",
            "                                                                 \n",
            " conv1_relu (ReLU)           (None, 112, 112, 32)      0         \n",
            "                                                                 \n",
            " conv_dw_1 (DepthwiseConv2D)  (None, 112, 112, 32)     288       \n",
            "                                                                 \n",
            " conv_dw_1_bn (BatchNormaliz  (None, 112, 112, 32)     128       \n",
            " ation)                                                          \n",
            "                                                                 \n",
            " conv_dw_1_relu (ReLU)       (None, 112, 112, 32)      0         \n",
            "                                                                 \n",
            " conv_pw_1 (Conv2D)          (None, 112, 112, 64)      2048      \n",
            "                                                                 \n",
            " conv_pw_1_bn (BatchNormaliz  (None, 112, 112, 64)     256       \n",
            " ation)                                                          \n",
            "                                                                 \n",
            " conv_pw_1_relu (ReLU)       (None, 112, 112, 64)      0         \n",
            "                                                                 \n",
            " conv_pad_2 (ZeroPadding2D)  (None, 113, 113, 64)      0         \n",
            "                                                                 \n",
            " conv_dw_2 (DepthwiseConv2D)  (None, 56, 56, 64)       576       \n",
            "                                                                 \n",
            " conv_dw_2_bn (BatchNormaliz  (None, 56, 56, 64)       256       \n",
            " ation)                                                          \n",
            "                                                                 \n",
            " conv_dw_2_relu (ReLU)       (None, 56, 56, 64)        0         \n",
            "                                                                 \n",
            " conv_pw_2 (Conv2D)          (None, 56, 56, 128)       8192      \n",
            "                                                                 \n",
            " conv_pw_2_bn (BatchNormaliz  (None, 56, 56, 128)      512       \n",
            " ation)                                                          \n",
            "                                                                 \n",
            " conv_pw_2_relu (ReLU)       (None, 56, 56, 128)       0         \n",
            "                                                                 \n",
            " conv_dw_3 (DepthwiseConv2D)  (None, 56, 56, 128)      1152      \n",
            "                                                                 \n",
            " conv_dw_3_bn (BatchNormaliz  (None, 56, 56, 128)      512       \n",
            " ation)                                                          \n",
            "                                                                 \n",
            " conv_dw_3_relu (ReLU)       (None, 56, 56, 128)       0         \n",
            "                                                                 \n",
            " conv_pw_3 (Conv2D)          (None, 56, 56, 128)       16384     \n",
            "                                                                 \n",
            " conv_pw_3_bn (BatchNormaliz  (None, 56, 56, 128)      512       \n",
            " ation)                                                          \n",
            "                                                                 \n",
            " conv_pw_3_relu (ReLU)       (None, 56, 56, 128)       0         \n",
            "                                                                 \n",
            " conv_pad_4 (ZeroPadding2D)  (None, 57, 57, 128)       0         \n",
            "                                                                 \n",
            " conv_dw_4 (DepthwiseConv2D)  (None, 28, 28, 128)      1152      \n",
            "                                                                 \n",
            " conv_dw_4_bn (BatchNormaliz  (None, 28, 28, 128)      512       \n",
            " ation)                                                          \n",
            "                                                                 \n",
            " conv_dw_4_relu (ReLU)       (None, 28, 28, 128)       0         \n",
            "                                                                 \n",
            " conv_pw_4 (Conv2D)          (None, 28, 28, 256)       32768     \n",
            "                                                                 \n",
            " conv_pw_4_bn (BatchNormaliz  (None, 28, 28, 256)      1024      \n",
            " ation)                                                          \n",
            "                                                                 \n",
            " conv_pw_4_relu (ReLU)       (None, 28, 28, 256)       0         \n",
            "                                                                 \n",
            " conv_dw_5 (DepthwiseConv2D)  (None, 28, 28, 256)      2304      \n",
            "                                                                 \n",
            " conv_dw_5_bn (BatchNormaliz  (None, 28, 28, 256)      1024      \n",
            " ation)                                                          \n",
            "                                                                 \n",
            " conv_dw_5_relu (ReLU)       (None, 28, 28, 256)       0         \n",
            "                                                                 \n",
            " conv_pw_5 (Conv2D)          (None, 28, 28, 256)       65536     \n",
            "                                                                 \n",
            " conv_pw_5_bn (BatchNormaliz  (None, 28, 28, 256)      1024      \n",
            " ation)                                                          \n",
            "                                                                 \n",
            " conv_pw_5_relu (ReLU)       (None, 28, 28, 256)       0         \n",
            "                                                                 \n",
            " conv_pad_6 (ZeroPadding2D)  (None, 29, 29, 256)       0         \n",
            "                                                                 \n",
            " conv_dw_6 (DepthwiseConv2D)  (None, 14, 14, 256)      2304      \n",
            "                                                                 \n",
            " conv_dw_6_bn (BatchNormaliz  (None, 14, 14, 256)      1024      \n",
            " ation)                                                          \n",
            "                                                                 \n",
            " conv_dw_6_relu (ReLU)       (None, 14, 14, 256)       0         \n",
            "                                                                 \n",
            " conv_pw_6 (Conv2D)          (None, 14, 14, 512)       131072    \n",
            "                                                                 \n",
            " conv_pw_6_bn (BatchNormaliz  (None, 14, 14, 512)      2048      \n",
            " ation)                                                          \n",
            "                                                                 \n",
            " conv_pw_6_relu (ReLU)       (None, 14, 14, 512)       0         \n",
            "                                                                 \n",
            " conv_dw_7 (DepthwiseConv2D)  (None, 14, 14, 512)      4608      \n",
            "                                                                 \n",
            " conv_dw_7_bn (BatchNormaliz  (None, 14, 14, 512)      2048      \n",
            " ation)                                                          \n",
            "                                                                 \n",
            " conv_dw_7_relu (ReLU)       (None, 14, 14, 512)       0         \n",
            "                                                                 \n",
            " conv_pw_7 (Conv2D)          (None, 14, 14, 512)       262144    \n",
            "                                                                 \n",
            " conv_pw_7_bn (BatchNormaliz  (None, 14, 14, 512)      2048      \n",
            " ation)                                                          \n",
            "                                                                 \n",
            " conv_pw_7_relu (ReLU)       (None, 14, 14, 512)       0         \n",
            "                                                                 \n",
            " conv_dw_8 (DepthwiseConv2D)  (None, 14, 14, 512)      4608      \n",
            "                                                                 \n",
            " conv_dw_8_bn (BatchNormaliz  (None, 14, 14, 512)      2048      \n",
            " ation)                                                          \n",
            "                                                                 \n",
            " conv_dw_8_relu (ReLU)       (None, 14, 14, 512)       0         \n",
            "                                                                 \n",
            " conv_pw_8 (Conv2D)          (None, 14, 14, 512)       262144    \n",
            "                                                                 \n",
            " conv_pw_8_bn (BatchNormaliz  (None, 14, 14, 512)      2048      \n",
            " ation)                                                          \n",
            "                                                                 \n",
            " conv_pw_8_relu (ReLU)       (None, 14, 14, 512)       0         \n",
            "                                                                 \n",
            " conv_dw_9 (DepthwiseConv2D)  (None, 14, 14, 512)      4608      \n",
            "                                                                 \n",
            " conv_dw_9_bn (BatchNormaliz  (None, 14, 14, 512)      2048      \n",
            " ation)                                                          \n",
            "                                                                 \n",
            " conv_dw_9_relu (ReLU)       (None, 14, 14, 512)       0         \n",
            "                                                                 \n",
            " conv_pw_9 (Conv2D)          (None, 14, 14, 512)       262144    \n",
            "                                                                 \n",
            " conv_pw_9_bn (BatchNormaliz  (None, 14, 14, 512)      2048      \n",
            " ation)                                                          \n",
            "                                                                 \n",
            " conv_pw_9_relu (ReLU)       (None, 14, 14, 512)       0         \n",
            "                                                                 \n",
            " conv_dw_10 (DepthwiseConv2D  (None, 14, 14, 512)      4608      \n",
            " )                                                               \n",
            "                                                                 \n",
            " conv_dw_10_bn (BatchNormali  (None, 14, 14, 512)      2048      \n",
            " zation)                                                         \n",
            "                                                                 \n",
            " conv_dw_10_relu (ReLU)      (None, 14, 14, 512)       0         \n",
            "                                                                 \n",
            " conv_pw_10 (Conv2D)         (None, 14, 14, 512)       262144    \n",
            "                                                                 \n",
            " conv_pw_10_bn (BatchNormali  (None, 14, 14, 512)      2048      \n",
            " zation)                                                         \n",
            "                                                                 \n",
            " conv_pw_10_relu (ReLU)      (None, 14, 14, 512)       0         \n",
            "                                                                 \n",
            " conv_dw_11 (DepthwiseConv2D  (None, 14, 14, 512)      4608      \n",
            " )                                                               \n",
            "                                                                 \n",
            " conv_dw_11_bn (BatchNormali  (None, 14, 14, 512)      2048      \n",
            " zation)                                                         \n",
            "                                                                 \n",
            " conv_dw_11_relu (ReLU)      (None, 14, 14, 512)       0         \n",
            "                                                                 \n",
            " conv_pw_11 (Conv2D)         (None, 14, 14, 512)       262144    \n",
            "                                                                 \n",
            " conv_pw_11_bn (BatchNormali  (None, 14, 14, 512)      2048      \n",
            " zation)                                                         \n",
            "                                                                 \n",
            " conv_pw_11_relu (ReLU)      (None, 14, 14, 512)       0         \n",
            "                                                                 \n",
            " conv_pad_12 (ZeroPadding2D)  (None, 15, 15, 512)      0         \n",
            "                                                                 \n",
            " conv_dw_12 (DepthwiseConv2D  (None, 7, 7, 512)        4608      \n",
            " )                                                               \n",
            "                                                                 \n",
            " conv_dw_12_bn (BatchNormali  (None, 7, 7, 512)        2048      \n",
            " zation)                                                         \n",
            "                                                                 \n",
            " conv_dw_12_relu (ReLU)      (None, 7, 7, 512)         0         \n",
            "                                                                 \n",
            " conv_pw_12 (Conv2D)         (None, 7, 7, 1024)        524288    \n",
            "                                                                 \n",
            " conv_pw_12_bn (BatchNormali  (None, 7, 7, 1024)       4096      \n",
            " zation)                                                         \n",
            "                                                                 \n",
            " conv_pw_12_relu (ReLU)      (None, 7, 7, 1024)        0         \n",
            "                                                                 \n",
            " conv_dw_13 (DepthwiseConv2D  (None, 7, 7, 1024)       9216      \n",
            " )                                                               \n",
            "                                                                 \n",
            " conv_dw_13_bn (BatchNormali  (None, 7, 7, 1024)       4096      \n",
            " zation)                                                         \n",
            "                                                                 \n",
            " conv_dw_13_relu (ReLU)      (None, 7, 7, 1024)        0         \n",
            "                                                                 \n",
            " conv_pw_13 (Conv2D)         (None, 7, 7, 1024)        1048576   \n",
            "                                                                 \n",
            " conv_pw_13_bn (BatchNormali  (None, 7, 7, 1024)       4096      \n",
            " zation)                                                         \n",
            "                                                                 \n",
            " conv_pw_13_relu (ReLU)      (None, 7, 7, 1024)        0         \n",
            "                                                                 \n",
            "=================================================================\n",
            "Total params: 3,228,864\n",
            "Trainable params: 3,206,976\n",
            "Non-trainable params: 21,888\n",
            "_________________________________________________________________\n"
          ]
        }
      ]
    },
    {
      "cell_type": "code",
      "source": [
        "base_model.trainable = False"
      ],
      "metadata": {
        "id": "QTsyYPC4LGI9"
      },
      "execution_count": null,
      "outputs": []
    },
    {
      "cell_type": "code",
      "source": [
        "# Adapting the model to the dataset\n",
        "\n",
        "model = tf.keras.Sequential([\n",
        "    base_model,\n",
        "    tf.keras.layers.GlobalMaxPooling2D(),\n",
        "    tf.keras.layers.Flatten(),\n",
        "    tf.keras.layers.Dense(len(set(img_generator_flow_train.labels)), activation=\"softmax\")\n",
        "])"
      ],
      "metadata": {
        "id": "84Cy1WV5LKV1"
      },
      "execution_count": null,
      "outputs": []
    },
    {
      "cell_type": "code",
      "source": [
        "# Let's create a learning rate schedule to decrease the learning rate as we train the model.\n",
        "initial_learning_rate = 0.0001\n",
        "\n",
        "lr_schedule = tf.keras.optimizers.schedules.ExponentialDecay(\n",
        "    initial_learning_rate,\n",
        "    decay_steps=1000,\n",
        "    decay_rate=0.96,\n",
        "    staircase=True)\n",
        "\n"
      ],
      "metadata": {
        "id": "A47S3LZpLRyC"
      },
      "execution_count": null,
      "outputs": []
    },
    {
      "cell_type": "code",
      "source": [
        "model.compile(optimizer=tf.keras.optimizers.Adam(learning_rate = lr_schedule),\n",
        "              loss = tf.keras.losses.CategoricalCrossentropy(),\n",
        "              metrics = [tf.keras.metrics.CategoricalAccuracy()])"
      ],
      "metadata": {
        "id": "VvIeVpZlLUh7"
      },
      "execution_count": null,
      "outputs": []
    },
    {
      "cell_type": "code",
      "source": [
        "model.summary()"
      ],
      "metadata": {
        "colab": {
          "base_uri": "https://localhost:8080/"
        },
        "id": "VHl09tEoLWxF",
        "outputId": "1707d8f8-8d48-43d3-934d-6c966eef2771"
      },
      "execution_count": null,
      "outputs": [
        {
          "output_type": "stream",
          "name": "stdout",
          "text": [
            "Model: \"sequential\"\n",
            "_________________________________________________________________\n",
            " Layer (type)                Output Shape              Param #   \n",
            "=================================================================\n",
            " mobilenet_1.00_224 (Functio  (None, 7, 7, 1024)       3228864   \n",
            " nal)                                                            \n",
            "                                                                 \n",
            " global_max_pooling2d (Globa  (None, 1024)             0         \n",
            " lMaxPooling2D)                                                  \n",
            "                                                                 \n",
            " flatten (Flatten)           (None, 1024)              0         \n",
            "                                                                 \n",
            " dense (Dense)               (None, 131)               134275    \n",
            "                                                                 \n",
            "=================================================================\n",
            "Total params: 3,363,139\n",
            "Trainable params: 134,275\n",
            "Non-trainable params: 3,228,864\n",
            "_________________________________________________________________\n"
          ]
        }
      ]
    },
    {
      "cell_type": "code",
      "source": [
        "history = model.fit(img_generator_flow_train, validation_data=img_generator_flow_valid, epochs=10)"
      ],
      "metadata": {
        "colab": {
          "base_uri": "https://localhost:8080/"
        },
        "id": "dhz3WJMaLYUL",
        "outputId": "38c22ae7-e737-4f93-979f-a521392ad84c"
      },
      "execution_count": null,
      "outputs": [
        {
          "output_type": "stream",
          "name": "stdout",
          "text": [
            "Epoch 1/10\n",
            "2116/2116 [==============================] - 636s 296ms/step - loss: 1.9684 - categorical_accuracy: 0.5933 - val_loss: 0.9231 - val_categorical_accuracy: 0.7648\n",
            "Epoch 2/10\n",
            "2116/2116 [==============================] - 664s 314ms/step - loss: 0.2385 - categorical_accuracy: 0.9411 - val_loss: 0.4983 - val_categorical_accuracy: 0.8661\n",
            "Epoch 3/10\n",
            "2116/2116 [==============================] - 606s 287ms/step - loss: 0.0867 - categorical_accuracy: 0.9830 - val_loss: 0.3565 - val_categorical_accuracy: 0.9027\n",
            "Epoch 4/10\n",
            "2116/2116 [==============================] - 611s 289ms/step - loss: 0.0413 - categorical_accuracy: 0.9938 - val_loss: 0.2926 - val_categorical_accuracy: 0.9214\n",
            "Epoch 5/10\n",
            "2116/2116 [==============================] - 608s 287ms/step - loss: 0.0237 - categorical_accuracy: 0.9970 - val_loss: 0.2508 - val_categorical_accuracy: 0.9311\n",
            "Epoch 6/10\n",
            "2116/2116 [==============================] - 616s 291ms/step - loss: 0.0144 - categorical_accuracy: 0.9986 - val_loss: 0.2132 - val_categorical_accuracy: 0.9414\n",
            "Epoch 7/10\n",
            "2116/2116 [==============================] - 620s 293ms/step - loss: 0.0094 - categorical_accuracy: 0.9995 - val_loss: 0.2041 - val_categorical_accuracy: 0.9447\n",
            "Epoch 8/10\n",
            "2116/2116 [==============================] - 614s 290ms/step - loss: 0.0065 - categorical_accuracy: 0.9997 - val_loss: 0.1704 - val_categorical_accuracy: 0.9530\n",
            "Epoch 9/10\n",
            "2116/2116 [==============================] - 607s 287ms/step - loss: 0.0046 - categorical_accuracy: 0.9999 - val_loss: 0.1623 - val_categorical_accuracy: 0.9561\n",
            "Epoch 10/10\n",
            "2116/2116 [==============================] - 613s 289ms/step - loss: 0.0037 - categorical_accuracy: 0.9999 - val_loss: 0.1694 - val_categorical_accuracy: 0.9568\n"
          ]
        }
      ]
    },
    {
      "cell_type": "code",
      "source": [
        "# Visualise train / Valid Accuracy\n",
        "plt.plot(model.history.history[\"categorical_accuracy\"], c=\"r\", label=\"train_accuracy\")\n",
        "plt.plot(model.history.history[\"val_categorical_accuracy\"], c=\"b\", label=\"test_accuracy\")\n",
        "plt.legend(loc=\"upper left\")\n",
        "plt.show()"
      ],
      "metadata": {
        "id": "0or8LGGsLfHg",
        "colab": {
          "base_uri": "https://localhost:8080/",
          "height": 430
        },
        "outputId": "99b0a595-7c88-473a-b0d6-f592df1334eb"
      },
      "execution_count": null,
      "outputs": [
        {
          "output_type": "display_data",
          "data": {
            "text/plain": [
              "<Figure size 640x480 with 1 Axes>"
            ],
            "image/png": "[encoded data removed]"
          },
          "metadata": {}
        }
      ]
    },
    {
      "cell_type": "code",
      "source": [
        "# Visualise train / Valid Accuracy\n",
        "plt.plot(model.history.history[\"loss\"], c=\"r\", label=\"train_loss\")\n",
        "plt.plot(model.history.history[\"val_loss\"], c=\"b\", label=\"test_loss\")\n",
        "plt.legend(loc=\"upper left\")\n",
        "plt.show()"
      ],
      "metadata": {
        "id": "-fiET9j5xZv4",
        "colab": {
          "base_uri": "https://localhost:8080/",
          "height": 430
        },
        "outputId": "2906d771-a35e-4dfc-9f57-46265534465d"
      },
      "execution_count": null,
      "outputs": [
        {
          "output_type": "display_data",
          "data": {
            "text/plain": [
              "<Figure size 640x480 with 1 Axes>"
            ],
            "image/png": "[encoded data removed]"
          },
          "metadata": {}
        }
      ]
    },
    {
      "cell_type": "code",
      "source": [
        "model.save(\"/content/gdrive/MyDrive/Final/models/TransferLearningModel_10epochs_lr0.0001_validation.h5\")"
      ],
      "metadata": {
        "id": "q1KaRIWpc2Rc"
      },
      "execution_count": null,
      "outputs": []
    },
    {
      "cell_type": "code",
      "source": [
        "import json\n",
        "# Get the dictionary containing each metric and the loss for each epoch\n",
        "history_dict = model.history.history\n",
        "# Save it under the form of a json file\n",
        "json.dump(history_dict, open(\"/content/gdrive/MyDrive/Final/models/TransferLearningModel_10epochs_lr0.0001_validation.json\", 'w'))\n"
      ],
      "metadata": {
        "id": "_KKsru2MrDIz"
      },
      "execution_count": null,
      "outputs": []
    },
    {
      "cell_type": "code",
      "source": [
        "end = datetime.now()\n",
        "print(f\"Le process a duré {end-start} minutes\")"
      ],
      "metadata": {
        "colab": {
          "base_uri": "https://localhost:8080/"
        },
        "id": "o2UPYuZ-6AlI",
        "outputId": "b154367e-9dd7-43e4-8a0b-f7cc6506a378"
      },
      "execution_count": null,
      "outputs": [
        {
          "output_type": "stream",
          "name": "stdout",
          "text": [
            "Le process a duré 1:45:39.156937 minutes\n"
          ]
        }
      ]
    },
    {
      "cell_type": "markdown",
      "source": [
        "# Predict"
      ],
      "metadata": {
        "id": "n5VnCM4obvA-"
      }
    },
    {
      "cell_type": "code",
      "source": [
        "import numpy as np\n",
        "from tensorflow import keras as keras\n",
        "from keras.models import load_model\n",
        "#model = load_model('/content/gdrive/MyDrive/Final/models/TransferLearningModel_10epochs_lr0.0001_validation.h5')\n",
        "model = load_model('/content/gdrive/MyDrive/Jedha/FS-2023/4 Projets/Final/models/TransferLearningModel_10epochs_lr0.0001_validation.h5')"
      ],
      "metadata": {
        "id": "XDkJJphW01oS"
      },
      "execution_count": null,
      "outputs": []
    },
    {
      "cell_type": "code",
      "source": [
        "model"
      ],
      "metadata": {
        "colab": {
          "base_uri": "https://localhost:8080/"
        },
        "id": "wYZnhZ2z3_h3",
        "outputId": "36364b13-30e3-4d43-8182-b3d56dc26aab"
      },
      "execution_count": null,
      "outputs": [
        {
          "output_type": "execute_result",
          "data": {
            "text/plain": [
              "<keras.engine.sequential.Sequential at 0x7fbe06e9ee60>"
            ]
          },
          "metadata": {},
          "execution_count": 5
        }
      ]
    },
    {
      "cell_type": "code",
      "source": [
        "from tensorflow.keras.preprocessing.image import ImageDataGenerator\n",
        "from tensorflow.keras.preprocessing import image\n",
        "import tensorflow as tf\n",
        "def prepare_image(file):\n",
        "    #img_path = '/content/gdrive/MyDrive/Final/fruits360/dataset/'\n",
        "    img_path = '/content/gdrive/MyDrive/Jedha/FS-2023/4 Projets/Final/fruits360/'\n",
        "    img = image.load_img(img_path + file, target_size=(224, 224))\n",
        "    img_array = image.img_to_array(img)\n",
        "    img_array_expanded_dims = np.expand_dims(img_array, axis=0)\n",
        "    return tf.keras.applications.mobilenet.preprocess_input(img_array_expanded_dims)"
      ],
      "metadata": {
        "id": "HNSIKUz6b0J_"
      },
      "execution_count": null,
      "outputs": []
    },
    {
      "cell_type": "code",
      "source": [
        "#img_predict = 'legumes-SANSplantravail.jpg'\n",
        "# img_predict = '1.jpg'\n",
        "img_predict = '2.jpg'\n",
        "\n",
        "predictions = model.predict(prepare_image(img_predict))"
      ],
      "metadata": {
        "id": "-dhvFlnJv-sS",
        "colab": {
          "base_uri": "https://localhost:8080/"
        },
        "outputId": "679adae4-a7ab-4742-efd2-ec49f63a70be"
      },
      "execution_count": null,
      "outputs": [
        {
          "output_type": "stream",
          "name": "stdout",
          "text": [
            "1/1 [==============================] - 7s 7s/step\n"
          ]
        }
      ]
    },
    {
      "cell_type": "code",
      "source": [
        "# print(predictions.shape)\n",
        "# type(predictions)"
      ],
      "metadata": {
        "id": "Jn_fXG7bgZjw"
      },
      "execution_count": null,
      "outputs": []
    },
    {
      "cell_type": "code",
      "source": [
        "pred = np.argmax(predictions)\n",
        "print(pred)"
      ],
      "metadata": {
        "id": "f2MeSksYQ1lr",
        "colab": {
          "base_uri": "https://localhost:8080/"
        },
        "outputId": "f618466f-c7f6-4440-9dec-44d68d99aed8"
      },
      "execution_count": null,
      "outputs": [
        {
          "output_type": "stream",
          "name": "stdout",
          "text": [
            "116\n"
          ]
        }
      ]
    },
    {
      "cell_type": "code",
      "source": [
        "# Prédiction unique\n",
        "\n",
        "#url = '/content/gdrive/MyDrive/Final/fruits360/dataset/Training'\n",
        "url = '/content/gdrive/MyDrive/Jedha/FS-2023/4 Projets/Final/fruits360/dataset/Training'\n",
        "\n",
        "import pathlib\n",
        "data_root = pathlib.Path(url)\n",
        "#print(data_root)\n",
        "range = 0\n",
        "for item in data_root.iterdir():\n",
        "  if range == pred:\n",
        "    print(str(item).rpartition('/')[-1])\n",
        "  range += 1"
      ],
      "metadata": {
        "id": "w3wS-PYGbZZY",
        "colab": {
          "base_uri": "https://localhost:8080/"
        },
        "outputId": "125dc845-26a5-432d-88ca-10bc8a21f7a1"
      },
      "execution_count": null,
      "outputs": [
        {
          "output_type": "stream",
          "name": "stdout",
          "text": [
            "Strawberry Wedge\n"
          ]
        }
      ]
    },
    {
      "cell_type": "code",
      "source": [
        "# HS\n",
        "# Recherche dans liste de prédictions\n",
        "\n",
        "url = '/content/gdrive/MyDrive/Final/fruits360/dataset/Training'\n",
        "\n",
        "import pathlib\n",
        "data_root = pathlib.Path(url)\n",
        "#print(data_root)\n",
        "range = 0\n",
        "for item in data_root.iterdir():\n",
        "  if range in predictions:\n",
        "    print(str(item).rpartition('/')[-1])\n",
        "  range += 1"
      ],
      "metadata": {
        "id": "SF0qi92VTITL",
        "colab": {
          "base_uri": "https://localhost:8080/",
          "height": 375
        },
        "outputId": "ccdab340-16ff-4423-9a80-f967e2ab905d"
      },
      "execution_count": null,
      "outputs": [
        {
          "output_type": "error",
          "ename": "FileNotFoundError",
          "evalue": "ignored",
          "traceback": [
            "\u001b[0;31m---------------------------------------------------------------------------\u001b[0m",
            "\u001b[0;31mFileNotFoundError\u001b[0m                         Traceback (most recent call last)",
            "\u001b[0;32m<ipython-input-18-56790c21dfb8>\u001b[0m in \u001b[0;36m<cell line: 9>\u001b[0;34m()\u001b[0m\n\u001b[1;32m      7\u001b[0m \u001b[0;31m#print(data_root)\u001b[0m\u001b[0;34m\u001b[0m\u001b[0;34m\u001b[0m\u001b[0m\n\u001b[1;32m      8\u001b[0m \u001b[0mrange\u001b[0m \u001b[0;34m=\u001b[0m \u001b[0;36m0\u001b[0m\u001b[0;34m\u001b[0m\u001b[0;34m\u001b[0m\u001b[0m\n\u001b[0;32m----> 9\u001b[0;31m \u001b[0;32mfor\u001b[0m \u001b[0mitem\u001b[0m \u001b[0;32min\u001b[0m \u001b[0mdata_root\u001b[0m\u001b[0;34m.\u001b[0m\u001b[0miterdir\u001b[0m\u001b[0;34m(\u001b[0m\u001b[0;34m)\u001b[0m\u001b[0;34m:\u001b[0m\u001b[0;34m\u001b[0m\u001b[0;34m\u001b[0m\u001b[0m\n\u001b[0m\u001b[1;32m     10\u001b[0m   \u001b[0;32mif\u001b[0m \u001b[0mrange\u001b[0m \u001b[0;32min\u001b[0m \u001b[0mpredictions\u001b[0m\u001b[0;34m:\u001b[0m\u001b[0;34m\u001b[0m\u001b[0;34m\u001b[0m\u001b[0m\n\u001b[1;32m     11\u001b[0m     \u001b[0mprint\u001b[0m\u001b[0;34m(\u001b[0m\u001b[0mstr\u001b[0m\u001b[0;34m(\u001b[0m\u001b[0mitem\u001b[0m\u001b[0;34m)\u001b[0m\u001b[0;34m.\u001b[0m\u001b[0mrpartition\u001b[0m\u001b[0;34m(\u001b[0m\u001b[0;34m'/'\u001b[0m\u001b[0;34m)\u001b[0m\u001b[0;34m[\u001b[0m\u001b[0;34m-\u001b[0m\u001b[0;36m1\u001b[0m\u001b[0;34m]\u001b[0m\u001b[0;34m)\u001b[0m\u001b[0;34m\u001b[0m\u001b[0;34m\u001b[0m\u001b[0m\n",
            "\u001b[0;32m/usr/lib/python3.10/pathlib.py\u001b[0m in \u001b[0;36miterdir\u001b[0;34m(self)\u001b[0m\n\u001b[1;32m   1015\u001b[0m         \u001b[0mresult\u001b[0m \u001b[0;32mfor\u001b[0m \u001b[0mthe\u001b[0m \u001b[0mspecial\u001b[0m \u001b[0mpaths\u001b[0m \u001b[0;34m'.'\u001b[0m \u001b[0;32mand\u001b[0m \u001b[0;34m'..'\u001b[0m\u001b[0;34m.\u001b[0m\u001b[0;34m\u001b[0m\u001b[0;34m\u001b[0m\u001b[0m\n\u001b[1;32m   1016\u001b[0m         \"\"\"\n\u001b[0;32m-> 1017\u001b[0;31m         \u001b[0;32mfor\u001b[0m \u001b[0mname\u001b[0m \u001b[0;32min\u001b[0m \u001b[0mself\u001b[0m\u001b[0;34m.\u001b[0m\u001b[0m_accessor\u001b[0m\u001b[0;34m.\u001b[0m\u001b[0mlistdir\u001b[0m\u001b[0;34m(\u001b[0m\u001b[0mself\u001b[0m\u001b[0;34m)\u001b[0m\u001b[0;34m:\u001b[0m\u001b[0;34m\u001b[0m\u001b[0;34m\u001b[0m\u001b[0m\n\u001b[0m\u001b[1;32m   1018\u001b[0m             \u001b[0;32mif\u001b[0m \u001b[0mname\u001b[0m \u001b[0;32min\u001b[0m \u001b[0;34m{\u001b[0m\u001b[0;34m'.'\u001b[0m\u001b[0;34m,\u001b[0m \u001b[0;34m'..'\u001b[0m\u001b[0;34m}\u001b[0m\u001b[0;34m:\u001b[0m\u001b[0;34m\u001b[0m\u001b[0;34m\u001b[0m\u001b[0m\n\u001b[1;32m   1019\u001b[0m                 \u001b[0;31m# Yielding a path object for these makes little sense\u001b[0m\u001b[0;34m\u001b[0m\u001b[0;34m\u001b[0m\u001b[0m\n",
            "\u001b[0;31mFileNotFoundError\u001b[0m: [Errno 2] No such file or directory: '/content/gdrive/MyDrive/Final/fruits360/dataset/Training'"
          ]
        }
      ]
    },
    {
      "cell_type": "code",
      "source": [],
      "metadata": {
        "id": "z4gaaVW7Z4yU"
      },
      "execution_count": null,
      "outputs": []
    }
  ]
}